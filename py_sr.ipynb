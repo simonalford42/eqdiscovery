{
 "cells": [
  {
   "cell_type": "code",
   "execution_count": 84,
   "metadata": {},
   "outputs": [],
   "source": [
    "from bounce import *\n",
    "from torch.utils.data import DataLoader\n",
    "from pysr import PySRRegressor\n",
    "\n",
    "loader = DataLoader(\n",
    "    BouncyBallsData(),\n",
    "    batch_size=4096,\n",
    "    drop_last=True,\n",
    "    pin_memory=False\n",
    ")\n",
    "\n",
    "x, y = next(iter(loader))"
   ]
  },
  {
   "cell_type": "code",
   "execution_count": null,
   "metadata": {},
   "outputs": [],
   "source": [
    "from pysr import PySRRegressor\n",
    "sr_model = PySRRegressor(\n",
    "    model_selection=\"best\",  # Result is mix of simplicity+accuracy\n",
    "    niterations=40,\n",
    "    binary_operators=[\"+\", \"*\"],\n",
    "    unary_operators=[],\n",
    "    # ^ Define operator for SymPy as well\n",
    "    loss=\"loss(x, y) = abs(x - y)\",\n",
    "    # ^ Custom loss function (julia syntax)\n",
    ")\n",
    "sr_model.fit(x.detach().numpy(), y.detach().numpy())"
   ]
  },
  {
   "cell_type": "code",
   "execution_count": null,
   "metadata": {},
   "outputs": [],
   "source": [
    "# to see full details: print(sr_model)\n",
    "sr_model.sympy()"
   ]
  },
  {
   "cell_type": "code",
   "execution_count": null,
   "metadata": {},
   "outputs": [],
   "source": [
    "import pickle\n",
    "# save the model\n",
    "\n",
    "with open('base_model.pk', 'wb') as sr_model_file:\n",
    "    pickle.dump(sr_model, sr_model_file)"
   ]
  },
  {
   "cell_type": "code",
   "execution_count": null,
   "metadata": {},
   "outputs": [],
   "source": [
    "import pandas as pd \n",
    "import numpy as np\n",
    "import matplotlib.pyplot as plt\n",
    "\n",
    "\n",
    "error = (y - sr_model.predict(x)).abs().mean(dim=1, keepdims=False).detach().numpy()\n",
    "pd.Series(np.log(1e-3 + error)).hist(bins=20)\n",
    "plt.yscale('log')"
   ]
  },
  {
   "cell_type": "code",
   "execution_count": null,
   "metadata": {},
   "outputs": [],
   "source": [
    "loader = DataLoader(\n",
    "    BouncyBallsDataBounce(),\n",
    "    batch_size=4096,\n",
    "    drop_last=True,\n",
    "    #num_workers=2,\n",
    "    #persistent_workers=True,\n",
    "    pin_memory=False\n",
    ")\n",
    "# do a first just to set the right numerical error threshold\n",
    "x, y = next(iter(loader))\n",
    "\n",
    "x, y = next(iter(loader))"
   ]
  },
  {
   "cell_type": "code",
   "execution_count": null,
   "metadata": {},
   "outputs": [],
   "source": [
    "error = (y - sr_model.predict(x)).abs().mean(dim=1, keepdims=False).detach().numpy()\n",
    "pd.Series(np.log(1e-3 + error)).hist(bins=20)\n",
    "plt.yscale('log')"
   ]
  },
  {
   "cell_type": "code",
   "execution_count": null,
   "metadata": {},
   "outputs": [],
   "source": []
  }
 ],
 "metadata": {
  "interpreter": {
   "hash": "4741426e26a5e6a637207f4863e4b645de3b3c5f81c70cde841ac5e1e8af37aa"
  },
  "kernelspec": {
   "display_name": "Python 3.9.12 ('torch_pl')",
   "language": "python",
   "name": "python3"
  },
  "language_info": {
   "codemirror_mode": {
    "name": "ipython",
    "version": 3
   },
   "file_extension": ".py",
   "mimetype": "text/x-python",
   "name": "python",
   "nbconvert_exporter": "python",
   "pygments_lexer": "ipython3",
   "version": "3.9.12"
  },
  "orig_nbformat": 4
 },
 "nbformat": 4,
 "nbformat_minor": 2
}
