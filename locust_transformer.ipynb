{
 "cells": [
  {
   "cell_type": "code",
   "execution_count": 10,
   "metadata": {},
   "outputs": [],
   "source": [
    "import pandas as pd\n",
    "import numpy as np\n",
    "import einops\n",
    "from matplotlib import pyplot as plt\n",
    "import scipy.io\n",
    "from utils import assert_equal\n",
    "import random\n",
    "import torch\n",
    "from torch import nn\n",
    "from torch.nn import functional as F\n",
    "from torch.utils.data import DataLoader, TensorDataset\n",
    "from tqdm import tqdm\n",
    "import os\n",
    "import locusts\n"
   ]
  },
  {
   "cell_type": "code",
   "execution_count": 27,
   "metadata": {},
   "outputs": [],
   "source": [
    "# import all of the locust data into one big data\n",
    "from locusts import import_data\n",
    "\n",
    "data = {}\n",
    "# for each file in Locusts/Data/Tracking, import the data\n",
    "for filename in os.listdir(\"Locusts/Data/Tracking\"):\n",
    "    if filename.endswith(\".mat\"):\n",
    "        # convert e.g. 15UE20200509_annotation.mat to 15UE20200509\n",
    "        # to do so, get rid of '_annotation.mat' at the end\n",
    "        f = filename[:-len('_annotation.mat')]\n",
    "        arr, info = import_data(f)\n",
    "        data[f] = arr, info\n"
   ]
  },
  {
   "cell_type": "code",
   "execution_count": 72,
   "metadata": {},
   "outputs": [],
   "source": [
    "# input data is (T, N, D)\n",
    "# we add food particles to make N+2\n",
    "# we also add (1) a binary is_food indicator,\n",
    "# (2) if the food is high quality or not\n",
    "# (3) the radius of the food location\n",
    "# so the final dim is D + 3\n",
    "def process_data(arr, info, n_features=4):\n",
    "    T, N, D = arr.shape\n",
    "    max_N = 30\n",
    "    data = np.zeros((T, max_N+2, D + 3))\n",
    "    data[:, 2:N+2, :D] = arr\n",
    "    data[:, 0, :D] = info['posA']\n",
    "    data[:, 1, :D] = info['posB']\n",
    "    data[:, 0:, D] = 1\n",
    "    data[:, 1, D+1] = info['isA_HQ']\n",
    "    data[:, 1, D+1] = info['isB_HQ']\n",
    "    data[:, 0, D+2] = info['radA']\n",
    "    data[:, 1, D+2] = info['radB']\n",
    "    return data\n",
    "\n",
    "\n"
   ]
  },
  {
   "cell_type": "code",
   "execution_count": 73,
   "metadata": {},
   "outputs": [],
   "source": [
    "data2 = {k: process_data(arr, info) for k, (arr, info) in data.items()}\n"
   ]
  },
  {
   "cell_type": "code",
   "execution_count": 75,
   "metadata": {},
   "outputs": [],
   "source": [
    "# create the whole dataset\n",
    "data_list = torch.stack([torch.from_numpy(v) for v in data2.values()])\n"
   ]
  },
  {
   "cell_type": "code",
   "execution_count": 83,
   "metadata": {},
   "outputs": [],
   "source": [
    "data_list = data_list.to(torch.float32)\n"
   ]
  },
  {
   "cell_type": "code",
   "execution_count": 84,
   "metadata": {},
   "outputs": [],
   "source": [
    "data_list.shape # (N_videos, T, N_locusts, D)\n",
    "\n",
    "# the transformer takes in a timestep and predicts accelerations.\n",
    "# in transformer talk, now we have [B, N, D]\n",
    "sample_batch = data_list[0, :100, :, :]\n",
    "\n"
   ]
  },
  {
   "cell_type": "code",
   "execution_count": 79,
   "metadata": {},
   "outputs": [],
   "source": [
    "D = sample_batch.shape[-1]\n",
    "encoder_layer = nn.TransformerEncoderLayer(d_model=D, nhead=D)\n",
    "transformer_encoder = nn.TransformerEncoder(encoder_layer, num_layers=3)\n",
    "\n"
   ]
  },
  {
   "cell_type": "code",
   "execution_count": 85,
   "metadata": {},
   "outputs": [
    {
     "data": {
      "text/plain": [
       "torch.float32"
      ]
     },
     "execution_count": 85,
     "metadata": {},
     "output_type": "execute_result"
    }
   ],
   "source": [
    "sample_batch.dtype\n"
   ]
  },
  {
   "cell_type": "code",
   "execution_count": 86,
   "metadata": {},
   "outputs": [
    {
     "data": {
      "text/plain": [
       "torch.Size([100, 32, 5])"
      ]
     },
     "execution_count": 86,
     "metadata": {},
     "output_type": "execute_result"
    }
   ],
   "source": [
    "transformer_encoder(sample_batch).shape\n"
   ]
  },
  {
   "cell_type": "code",
   "execution_count": null,
   "metadata": {},
   "outputs": [],
   "source": []
  }
 ],
 "metadata": {
  "kernelspec": {
   "display_name": "base",
   "language": "python",
   "name": "python3"
  },
  "language_info": {
   "codemirror_mode": {
    "name": "ipython",
    "version": 3
   },
   "file_extension": ".py",
   "mimetype": "text/x-python",
   "name": "python",
   "nbconvert_exporter": "python",
   "pygments_lexer": "ipython3",
   "version": "3.10.8"
  }
 },
 "nbformat": 4,
 "nbformat_minor": 2
}
