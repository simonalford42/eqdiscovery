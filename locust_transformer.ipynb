{
 "cells": [
  {
   "cell_type": "code",
   "execution_count": 10,
   "metadata": {},
   "outputs": [],
   "source": [
    "import pandas as pd\n",
    "import numpy as np\n",
    "import einops\n",
    "from matplotlib import pyplot as plt\n",
    "import scipy.io\n",
    "from utils import assert_equal\n",
    "import random\n",
    "import torch\n",
    "from torch import nn\n",
    "from torch.nn import functional as F\n",
    "from torch.utils.data import DataLoader, TensorDataset\n",
    "from tqdm import tqdm\n",
    "import os\n",
    "import locusts\n"
   ]
  },
  {
   "cell_type": "code",
   "execution_count": 27,
   "metadata": {},
   "outputs": [],
   "source": [
    "# import all of the locust data into one big data\n",
    "from locusts import import_data\n",
    "\n",
    "data = {}\n",
    "# for each file in Locusts/Data/Tracking, import the data\n",
    "for filename in os.listdir(\"Locusts/Data/Tracking\"):\n",
    "    if filename.endswith(\".mat\"):\n",
    "        # convert e.g. 15UE20200509_annotation.mat to 15UE20200509\n",
    "        # to do so, get rid of '_annotation.mat' at the end\n",
    "        f = filename[:-len('_annotation.mat')]\n",
    "        arr, info = import_data(f)\n",
    "        data[f] = arr, info\n"
   ]
  },
  {
   "cell_type": "code",
   "execution_count": 96,
   "metadata": {},
   "outputs": [
    {
     "name": "stdout",
     "output_type": "stream",
     "text": [
      "05UE20200706\n",
      "15EQ20200329\n",
      "05EQ20200525\n",
      "15UE20191206\n",
      "15UE20191213\n",
      "01EQ20200706\n",
      "15EQ20191209\n",
      "10UE20200331\n",
      "10EQ20200831\n",
      "01UE20200917_2\n",
      "01EQ20201007_2\n",
      "05UE20200708\n",
      "01UE20200918\n",
      "05EQ20200303_reencoded\n",
      "30UE20191206\n",
      "10EQ20200822\n",
      "30EQ20191209\n",
      "10UE20200624\n"
     ]
    }
   ],
   "source": [
    "data.keys()\n",
    "from collections import Counter\n",
    "Counter([s[:4] for s in data.keys()])\n",
    "# save 1-2 videos from each category for validation\n",
    "# and use the rest for training\n",
    "counts = {}\n",
    "for k in data.keys():\n",
    "    if k[:4] not in counts:\n",
    "        print(k)\n",
    "        counts[k[:4]] = 1\n",
    "    elif counts[k[:4]] == 1 and k[:2] != '30':\n",
    "        print(k)\n",
    "        counts[k[:4]] = 2\n",
    "\n",
    "\n",
    "assert len(set(data.keys())) == len(data.keys())\n",
    "# c = Counter(s[:12] for s in data.keys())\n",
    "# c2 = {k: v for k, v in c.items() if v > 1}\n",
    "# for k in c2:\n",
    "    # print([s for s in data.keys() if s[:12] == k])\n"
   ]
  },
  {
   "cell_type": "code",
   "execution_count": 72,
   "metadata": {},
   "outputs": [],
   "source": [
    "# input data is (T, N, D)\n",
    "# we add food particles to make N+2\n",
    "# we also add (1) a binary is_food indicator,\n",
    "# (2) if the food is high quality or not\n",
    "# (3) the radius of the food location\n",
    "# so the final dim is D + 3\n",
    "def process_data(arr, info):\n",
    "    T, N, D = arr.shape\n",
    "    max_N = 30\n",
    "    data = np.zeros((T, max_N+2, D + 3))\n",
    "    data[:, 2:N+2, :D] = arr\n",
    "    data[:, 0, :D] = info['posA']\n",
    "    data[:, 1, :D] = info['posB']\n",
    "    data[:, 0:, D] = 1\n",
    "    data[:, 1, D+1] = info['isA_HQ']\n",
    "    data[:, 1, D+1] = info['isB_HQ']\n",
    "    data[:, 0, D+2] = info['radA']\n",
    "    data[:, 1, D+2] = info['radB']\n",
    "    return data\n",
    "\n",
    "\n"
   ]
  },
  {
   "cell_type": "code",
   "execution_count": 73,
   "metadata": {},
   "outputs": [],
   "source": [
    "data2 = {k: process_data(arr, info) for k, (arr, info) in data.items()}\n"
   ]
  },
  {
   "cell_type": "code",
   "execution_count": 75,
   "metadata": {},
   "outputs": [],
   "source": [
    "# create the whole dataset\n",
    "data_list = torch.stack([torch.from_numpy(v) for v in data2.values()])\n"
   ]
  },
  {
   "cell_type": "code",
   "execution_count": 83,
   "metadata": {},
   "outputs": [],
   "source": [
    "data_list = data_list.to(torch.float32)\n"
   ]
  },
  {
   "cell_type": "code",
   "execution_count": 97,
   "metadata": {},
   "outputs": [
    {
     "name": "stdout",
     "output_type": "stream",
     "text": [
      "torch.Size([108, 45000, 32, 5])\n"
     ]
    }
   ],
   "source": [
    "print(data_list.shape) # (N_videos, T, N_locusts, D)\n",
    "\n",
    "# the transformer takes in a timestep and predicts accelerations.\n",
    "# in transformer talk, now we have [B, N, D]\n",
    "sample_batch = data_list[0, :100, :, :]\n",
    "\n"
   ]
  },
  {
   "cell_type": "code",
   "execution_count": 79,
   "metadata": {},
   "outputs": [],
   "source": [
    "D = sample_batch.shape[-1]\n",
    "encoder_layer = nn.TransformerEncoderLayer(d_model=D, nhead=D)\n",
    "transformer_encoder = nn.TransformerEncoder(encoder_layer, num_layers=3)\n",
    "\n"
   ]
  },
  {
   "cell_type": "code",
   "execution_count": 98,
   "metadata": {},
   "outputs": [
    {
     "data": {
      "text/plain": [
       "torch.Size([100, 32, 5])"
      ]
     },
     "execution_count": 98,
     "metadata": {},
     "output_type": "execute_result"
    }
   ],
   "source": [
    "sample_batch.shape\n"
   ]
  },
  {
   "cell_type": "code",
   "execution_count": 86,
   "metadata": {},
   "outputs": [
    {
     "data": {
      "text/plain": [
       "torch.Size([100, 32, 5])"
      ]
     },
     "execution_count": 86,
     "metadata": {},
     "output_type": "execute_result"
    }
   ],
   "source": [
    "transformer_encoder(sample_batch).shape\n"
   ]
  },
  {
   "cell_type": "code",
   "execution_count": 99,
   "metadata": {},
   "outputs": [
    {
     "data": {
      "text/plain": [
       "torch.Size([108, 45000, 32, 5])"
      ]
     },
     "execution_count": 99,
     "metadata": {},
     "output_type": "execute_result"
    }
   ],
   "source": [
    "data_list.shape\n"
   ]
  },
  {
   "cell_type": "code",
   "execution_count": 100,
   "metadata": {},
   "outputs": [],
   "source": [
    "dataset = torch.utils.data.TensorDataset(data_list)\n"
   ]
  },
  {
   "cell_type": "code",
   "execution_count": 101,
   "metadata": {},
   "outputs": [
    {
     "name": "stdout",
     "output_type": "stream",
     "text": [
      "torch.Size([4, 45000, 32, 5])\n"
     ]
    }
   ],
   "source": [
    "dl = torch.utils.data.DataLoader(dataset, batch_size=4, shuffle=True)\n",
    "print(next(iter(dl))[0].shape)\n"
   ]
  },
  {
   "cell_type": "code",
   "execution_count": 102,
   "metadata": {},
   "outputs": [
    {
     "name": "stdout",
     "output_type": "stream",
     "text": [
      "torch.Size([4, 45000, 32, 5])\n"
     ]
    }
   ],
   "source": [
    "dataset2 = torch.utils.data.TensorDataset(data_list)\n",
    "dataset3 = torch.utils.data.ConcatDataset([dataset, dataset2])\n",
    "dl = torch.utils.data.DataLoader(dataset3, batch_size=4, shuffle=True)\n",
    "print(next(iter(dl))[0].shape)\n"
   ]
  },
  {
   "cell_type": "code",
   "execution_count": null,
   "metadata": {},
   "outputs": [],
   "source": []
  }
 ],
 "metadata": {
  "kernelspec": {
   "display_name": "base",
   "language": "python",
   "name": "python3"
  },
  "language_info": {
   "codemirror_mode": {
    "name": "ipython",
    "version": 3
   },
   "file_extension": ".py",
   "mimetype": "text/x-python",
   "name": "python",
   "nbconvert_exporter": "python",
   "pygments_lexer": "ipython3",
   "version": "3.10.8"
  }
 },
 "nbformat": 4,
 "nbformat_minor": 2
}
