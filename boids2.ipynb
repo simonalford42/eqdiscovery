{
 "cells": [
  {
   "cell_type": "code",
   "execution_count": 11,
   "metadata": {},
   "outputs": [],
   "source": [
    "\n",
    "import numpy as np\n",
    "from scipy.spatial.distance import cdist"
   ]
  },
  {
   "cell_type": "code",
   "execution_count": 8,
   "metadata": {},
   "outputs": [],
   "source": [
    "\n",
    "n_boids = 10\n",
    "too_close_radius = 4\n",
    "visible_radius = 48"
   ]
  },
  {
   "cell_type": "code",
   "execution_count": 9,
   "metadata": {},
   "outputs": [],
   "source": [
    "\n",
    "avoid_weight = 1\n",
    "align_weight = 1\n",
    "center_weight = 1"
   ]
  },
  {
   "cell_type": "code",
   "execution_count": 12,
   "metadata": {},
   "outputs": [],
   "source": [
    "\n",
    "boid_poss = np.random.uniform(-n_boids/2, n_boids/2, (n_boids, 2))\n",
    "boid_vels = np.random.uniform(-1, 1, (n_boids, 2))"
   ]
  },
  {
   "cell_type": "code",
   "execution_count": 13,
   "metadata": {},
   "outputs": [],
   "source": [
    "\n",
    "distances = cdist(boid_poss, boid_poss)"
   ]
  },
  {
   "cell_type": "code",
   "execution_count": 14,
   "metadata": {},
   "outputs": [],
   "source": [
    "\n",
    "# pairs of indices that are too close\n",
    "too_close_neighbors = np.where(distances[0] < too_close_radius)\n",
    "visible_neighbors = np.where(distances[0] < visible_radius)"
   ]
  },
  {
   "cell_type": "code",
   "execution_count": 21,
   "metadata": {},
   "outputs": [
    {
     "data": {
      "text/plain": [
       "array([[ 0.        ,  0.        ],\n",
       "       [ 0.58454783,  3.92151883],\n",
       "       [-1.55439236, -1.66521143],\n",
       "       [-2.4181025 ,  3.1474699 ]])"
      ]
     },
     "execution_count": 21,
     "metadata": {},
     "output_type": "execute_result"
    }
   ],
   "source": [
    "boid_poss[0, None] - boid_poss[too_close_neighbors]"
   ]
  },
  {
   "cell_type": "code",
   "execution_count": 20,
   "metadata": {},
   "outputs": [
    {
     "data": {
      "text/plain": [
       "array([0.58454783, 3.92151883])"
      ]
     },
     "execution_count": 20,
     "metadata": {},
     "output_type": "execute_result"
    }
   ],
   "source": [
    "boid_poss[0] - boid_poss[1]"
   ]
  },
  {
   "cell_type": "code",
   "execution_count": 80,
   "metadata": {},
   "outputs": [
    {
     "data": {
      "text/plain": [
       "array([0.        , 3.23179797, 3.78423245, 3.14671121])"
      ]
     },
     "execution_count": 80,
     "metadata": {},
     "output_type": "execute_result"
    }
   ],
   "source": [
    "distances[0][too_close_neighbors]"
   ]
  },
  {
   "cell_type": "code",
   "execution_count": 65,
   "metadata": {},
   "outputs": [
    {
     "name": "stderr",
     "output_type": "stream",
     "text": [
      "/var/folders/p5/52jmynx13jdctdpd69bl3hjw0000gq/T/ipykernel_94393/2392263539.py:1: VisibleDeprecationWarning: Creating an ndarray from ragged nested sequences (which is a list-or-tuple of lists-or-tuples-or ndarrays with different lengths or shapes) is deprecated. If you meant to do this, you must specify 'dtype=object' when creating the ndarray.\n",
      "  np.array([np.where(distances[i] < too_close_radius) for i in range(len(distances))])\n"
     ]
    },
    {
     "data": {
      "text/plain": [
       "array([[array([0, 1, 4, 6])],\n",
       "       [array([0, 1, 3, 4, 6])],\n",
       "       [array([2, 4, 6, 8])],\n",
       "       [array([1, 3, 4, 6, 7])],\n",
       "       [array([0, 1, 2, 3, 4, 6, 8])],\n",
       "       [array([5, 7])],\n",
       "       [array([0, 1, 2, 3, 4, 6, 8])],\n",
       "       [array([3, 5, 7])],\n",
       "       [array([2, 4, 6, 8, 9])],\n",
       "       [array([8, 9])]], dtype=object)"
      ]
     },
     "execution_count": 65,
     "metadata": {},
     "output_type": "execute_result"
    }
   ],
   "source": [
    "np.array([np.where(distances[i] < too_close_radius) for i in range(len(distances))])"
   ]
  },
  {
   "cell_type": "code",
   "execution_count": 56,
   "metadata": {},
   "outputs": [
    {
     "data": {
      "text/plain": [
       "array([11., 14., 20., 21., 24., 12., 24., 15., 29., 17.])"
      ]
     },
     "execution_count": 56,
     "metadata": {},
     "output_type": "execute_result"
    }
   ],
   "source": [
    "sums"
   ]
  },
  {
   "cell_type": "code",
   "execution_count": null,
   "metadata": {},
   "outputs": [],
   "source": []
  }
 ],
 "metadata": {
  "kernelspec": {
   "display_name": "base",
   "language": "python",
   "name": "python3"
  },
  "language_info": {
   "codemirror_mode": {
    "name": "ipython",
    "version": 3
   },
   "file_extension": ".py",
   "mimetype": "text/x-python",
   "name": "python",
   "nbconvert_exporter": "python",
   "pygments_lexer": "ipython3",
   "version": "3.10.8"
  },
  "orig_nbformat": 4
 },
 "nbformat": 4,
 "nbformat_minor": 2
}
